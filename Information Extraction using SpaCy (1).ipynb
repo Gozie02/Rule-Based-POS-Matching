{
 "cells": [
  {
   "cell_type": "code",
   "execution_count": 1,
   "id": "2db7fa2b",
   "metadata": {},
   "outputs": [],
   "source": [
    "import spacy\n",
    "nlp = spacy.load('en_core_web_sm')\n",
    "from spacy.matcher import Matcher\n",
    "import pandas as pd\n",
    "df = pd.read_csv(r\"C:/Users/uchei/OneDrive/Desktop/Gozie/Raw_Skills_Dataset.csv\")"
   ]
  },
  {
   "cell_type": "code",
   "execution_count": 2,
   "id": "6c4a7eee",
   "metadata": {},
   "outputs": [
    {
     "data": {
      "text/html": [
       "<div>\n",
       "<style scoped>\n",
       "    .dataframe tbody tr th:only-of-type {\n",
       "        vertical-align: middle;\n",
       "    }\n",
       "\n",
       "    .dataframe tbody tr th {\n",
       "        vertical-align: top;\n",
       "    }\n",
       "\n",
       "    .dataframe thead th {\n",
       "        text-align: right;\n",
       "    }\n",
       "</style>\n",
       "<table border=\"1\" class=\"dataframe\">\n",
       "  <thead>\n",
       "    <tr style=\"text-align: right;\">\n",
       "      <th></th>\n",
       "      <th>RAW DATA</th>\n",
       "    </tr>\n",
       "  </thead>\n",
       "  <tbody>\n",
       "    <tr>\n",
       "      <th>0</th>\n",
       "      <td>What ifs</td>\n",
       "    </tr>\n",
       "    <tr>\n",
       "      <th>1</th>\n",
       "      <td>seniority</td>\n",
       "    </tr>\n",
       "    <tr>\n",
       "      <th>2</th>\n",
       "      <td>familiarity</td>\n",
       "    </tr>\n",
       "    <tr>\n",
       "      <th>3</th>\n",
       "      <td>functionalities</td>\n",
       "    </tr>\n",
       "    <tr>\n",
       "      <th>4</th>\n",
       "      <td>Lambdas</td>\n",
       "    </tr>\n",
       "  </tbody>\n",
       "</table>\n",
       "</div>"
      ],
      "text/plain": [
       "          RAW DATA\n",
       "0         What ifs\n",
       "1        seniority\n",
       "2      familiarity\n",
       "3  functionalities\n",
       "4          Lambdas"
      ]
     },
     "execution_count": 2,
     "metadata": {},
     "output_type": "execute_result"
    }
   ],
   "source": [
    "df.head()"
   ]
  },
  {
   "cell_type": "code",
   "execution_count": 3,
   "id": "af35aa29",
   "metadata": {},
   "outputs": [
    {
     "data": {
      "text/plain": [
       "(34116, 1)"
      ]
     },
     "execution_count": 3,
     "metadata": {},
     "output_type": "execute_result"
    }
   ],
   "source": [
    "df.shape"
   ]
  },
  {
   "cell_type": "markdown",
   "id": "53bdbdf8",
   "metadata": {},
   "source": [
    "There are 34116 samples in the raw data. Let's filter out the useful information."
   ]
  },
  {
   "cell_type": "code",
   "execution_count": 4,
   "id": "67d91038",
   "metadata": {},
   "outputs": [],
   "source": [
    "def patterns(text):\n",
    "    doc = nlp(text)\n",
    "    patterns = []\n",
    "    for token in doc:\n",
    "        patterns.append(token.pos_)\n",
    "    return patterns"
   ]
  },
  {
   "cell_type": "markdown",
   "id": "a0788345",
   "metadata": {},
   "source": [
    "Let's extract the patterns from the example dataset."
   ]
  },
  {
   "cell_type": "code",
   "execution_count": 5,
   "id": "978b5bb6",
   "metadata": {},
   "outputs": [
    {
     "data": {
      "text/html": [
       "<div>\n",
       "<style scoped>\n",
       "    .dataframe tbody tr th:only-of-type {\n",
       "        vertical-align: middle;\n",
       "    }\n",
       "\n",
       "    .dataframe tbody tr th {\n",
       "        vertical-align: top;\n",
       "    }\n",
       "\n",
       "    .dataframe thead th {\n",
       "        text-align: right;\n",
       "    }\n",
       "</style>\n",
       "<table border=\"1\" class=\"dataframe\">\n",
       "  <thead>\n",
       "    <tr style=\"text-align: right;\">\n",
       "      <th></th>\n",
       "      <th>Technology Skills</th>\n",
       "    </tr>\n",
       "  </thead>\n",
       "  <tbody>\n",
       "    <tr>\n",
       "      <th>0</th>\n",
       "      <td>SAP Fiori Developer</td>\n",
       "    </tr>\n",
       "    <tr>\n",
       "      <th>1</th>\n",
       "      <td>Oracle Instance Management &amp; Strategy</td>\n",
       "    </tr>\n",
       "    <tr>\n",
       "      <th>2</th>\n",
       "      <td>Boomi Master Data Management</td>\n",
       "    </tr>\n",
       "    <tr>\n",
       "      <th>3</th>\n",
       "      <td>Digital Manufacturing on Cloud ( DMC)</td>\n",
       "    </tr>\n",
       "    <tr>\n",
       "      <th>4</th>\n",
       "      <td>DevOps</td>\n",
       "    </tr>\n",
       "  </tbody>\n",
       "</table>\n",
       "</div>"
      ],
      "text/plain": [
       "                       Technology Skills\n",
       "0                    SAP Fiori Developer\n",
       "1  Oracle Instance Management & Strategy\n",
       "2           Boomi Master Data Management\n",
       "3  Digital Manufacturing on Cloud ( DMC)\n",
       "4                                 DevOps"
      ]
     },
     "execution_count": 5,
     "metadata": {},
     "output_type": "execute_result"
    }
   ],
   "source": [
    "examples = pd.read_csv(r\"C:/Users/uchei/OneDrive/Desktop/Gozie/Example_Technical_Skills.csv\")\n",
    "examples.head()"
   ]
  },
  {
   "cell_type": "code",
   "execution_count": 6,
   "id": "3d4200f6",
   "metadata": {},
   "outputs": [],
   "source": [
    "examples['Patterns'] = examples['Technology Skills'].apply(lambda x:patterns(x))"
   ]
  },
  {
   "cell_type": "code",
   "execution_count": 7,
   "id": "7fc0f57c",
   "metadata": {},
   "outputs": [
    {
     "data": {
      "text/html": [
       "<div>\n",
       "<style scoped>\n",
       "    .dataframe tbody tr th:only-of-type {\n",
       "        vertical-align: middle;\n",
       "    }\n",
       "\n",
       "    .dataframe tbody tr th {\n",
       "        vertical-align: top;\n",
       "    }\n",
       "\n",
       "    .dataframe thead th {\n",
       "        text-align: right;\n",
       "    }\n",
       "</style>\n",
       "<table border=\"1\" class=\"dataframe\">\n",
       "  <thead>\n",
       "    <tr style=\"text-align: right;\">\n",
       "      <th></th>\n",
       "      <th>Technology Skills</th>\n",
       "      <th>Patterns</th>\n",
       "    </tr>\n",
       "  </thead>\n",
       "  <tbody>\n",
       "    <tr>\n",
       "      <th>0</th>\n",
       "      <td>SAP Fiori Developer</td>\n",
       "      <td>[PROPN, PROPN, PROPN]</td>\n",
       "    </tr>\n",
       "    <tr>\n",
       "      <th>1</th>\n",
       "      <td>Oracle Instance Management &amp; Strategy</td>\n",
       "      <td>[PROPN, PROPN, PROPN, CCONJ, PROPN]</td>\n",
       "    </tr>\n",
       "    <tr>\n",
       "      <th>2</th>\n",
       "      <td>Boomi Master Data Management</td>\n",
       "      <td>[PROPN, PROPN, PROPN, PROPN]</td>\n",
       "    </tr>\n",
       "    <tr>\n",
       "      <th>3</th>\n",
       "      <td>Digital Manufacturing on Cloud ( DMC)</td>\n",
       "      <td>[PROPN, PROPN, ADP, PROPN, PUNCT, PROPN, PUNCT]</td>\n",
       "    </tr>\n",
       "    <tr>\n",
       "      <th>4</th>\n",
       "      <td>DevOps</td>\n",
       "      <td>[PROPN]</td>\n",
       "    </tr>\n",
       "  </tbody>\n",
       "</table>\n",
       "</div>"
      ],
      "text/plain": [
       "                       Technology Skills  \\\n",
       "0                    SAP Fiori Developer   \n",
       "1  Oracle Instance Management & Strategy   \n",
       "2           Boomi Master Data Management   \n",
       "3  Digital Manufacturing on Cloud ( DMC)   \n",
       "4                                 DevOps   \n",
       "\n",
       "                                          Patterns  \n",
       "0                            [PROPN, PROPN, PROPN]  \n",
       "1              [PROPN, PROPN, PROPN, CCONJ, PROPN]  \n",
       "2                     [PROPN, PROPN, PROPN, PROPN]  \n",
       "3  [PROPN, PROPN, ADP, PROPN, PUNCT, PROPN, PUNCT]  \n",
       "4                                          [PROPN]  "
      ]
     },
     "execution_count": 7,
     "metadata": {},
     "output_type": "execute_result"
    }
   ],
   "source": [
    "examples.head()"
   ]
  },
  {
   "cell_type": "markdown",
   "id": "6356f0cc",
   "metadata": {},
   "source": [
    "Using these defined patterns and finding similarities, we can create our own Rule-Based POS Matching"
   ]
  },
  {
   "cell_type": "code",
   "execution_count": 8,
   "id": "7a2c3ec8",
   "metadata": {},
   "outputs": [],
   "source": [
    "def extract_tech(text):\n",
    "    doc = nlp(text)\n",
    "    skills = []\n",
    "    if len(text.split()) == 1:\n",
    "        pattern = [{'POS': 'PROPN'}]\n",
    "        matcher = Matcher(nlp.vocab)\n",
    "        matcher.add(\"Prop\", [pattern])\n",
    "        matches = matcher(doc)\n",
    "        for match_id, start, end in matches:\n",
    "            span = doc[start:end]\n",
    "            skills.append(span.text)\n",
    "            \n",
    "    elif len(text.split()) == 2:\n",
    "        pattern = [[{'POS': 'PROPN'}, {'POS': 'PROPN'}],\n",
    "                    [{'POS': 'NOUN'}, {'POS': 'VERB'}],\n",
    "                   [{'POS': 'PROPN'}, {'POS': 'NOUN'}],\n",
    "                   [{'POS': 'NOUN'}, {'POS': 'NUM'}],\n",
    "                   [{'POS': 'PROPN'}, {'POS': 'PROPN'}, {'POS': 'SYM'}, {'POS': 'PROPN'}, {'POS': 'SYM'}, {'POS': 'PROPN'}]]\n",
    "        matcher = Matcher(nlp.vocab)\n",
    "        matcher.add(\"Prop1\", [pattern[0]])\n",
    "        matcher.add(\"Prop12\", [pattern[1]])\n",
    "        matcher.add(\"Prop13\", [pattern[2]])\n",
    "        matcher.add(\"Prop14\", [pattern[3]])\n",
    "        matcher.add(\"Prop15\", [pattern[4]])\n",
    "        matches = matcher(doc)\n",
    "        for match_id, start, end in matches:\n",
    "            span = doc[start:end]\n",
    "            skills.append(span.text)\n",
    "            \n",
    "    elif len(text.split()) == 3:\n",
    "        pattern = [[{'POS': 'PROPN'}, {'POS': 'PROPN'}, {'POS': 'PROPN'}],\n",
    "                   [{'POS': 'NOUN'}, {'POS': 'CCONJ'}, {'POS': 'NOUN'}],\n",
    "                   [{'POS': 'PROPN'}, {'POS': 'SYM'}, {'POS': 'PROPN'}],\n",
    "                   [{'POS': 'PROPN'}, {'POS': 'PROPN'}, {'POS': 'PUNCT'}, {'POS': 'PROPN'}, {'POS': 'PROPN'}],\n",
    "                   [{'POS': 'NOUN'}, {'POS': 'NOUN'}, {'POS': 'PUNCT'}, {'POS': 'PROPN'}, {'POS': 'PROPN'}],\n",
    "                   [{'POS': 'PROPN'}, {'POS': 'PROPN'}, {'POS': 'PUNCT'}, {'POS': 'PROPN'}, {'POS': 'PUNCT'}],\n",
    "                   [{'POS': 'PROPN'}, {'POS': 'PROPN'}, {'POS': 'NOUN'}]]\n",
    "        matcher = Matcher(nlp.vocab)\n",
    "        matcher.add(\"Prop2\", [pattern[0]])\n",
    "        matcher.add(\"Prop21\", [pattern[1]])\n",
    "        matcher.add(\"Prop22\", [pattern[2]])\n",
    "        matcher.add(\"Prop23\", [pattern[3]])\n",
    "        matcher.add(\"Prop24\", [pattern[4]])\n",
    "        matcher.add(\"Prop25\", [pattern[5]])\n",
    "        matcher.add(\"Prop26\", [pattern[6]])\n",
    "        matches = matcher(doc)\n",
    "        for match_id, start, end in matches:\n",
    "            span = doc[start:end]\n",
    "            skills.append(span.text)\n",
    "            \n",
    "    elif len(text.split()) == 4:\n",
    "        pattern = [[{'POS': 'PROPN'}, {'POS': 'PROPN'}, {'POS': 'PROPN'}, {'POS': 'PROPN'}],\n",
    "                   [{'POS': 'NOUN'}, {'POS': 'ADP', 'OP': '?'}, {'POS': 'NOUN'}, {'POS': 'NOUN'}],\n",
    "                   [{'POS': 'NOUN'}, {'POS': 'PUNCT'}, {'POS': 'PROPN'}, {'POS': 'PROPN'}],\n",
    "                   [{'POS': 'PROPN'}, {'POS': 'PROPN'}, {'POS': 'SYM'}, {'POS': 'PROPN'}], \n",
    "                   [{'POS': 'PROPN'}, {'POS': 'PROPN'}, {'POS': 'PUNCT'}, {'POS': 'PROPN'}, {'POS': 'PROPN'}, {'POS': 'PUNCT'}],\n",
    "                   [{'POS': 'NOUN'}, {'POS': 'PUNCT'}, {'POS': 'NOUN'}, {'POS': 'PROPN'}, {'POS': 'PUNCT'}, {'POS': 'PROPN'}],\n",
    "                   [{'POS': 'PROPN'}, {'POS': 'PROPN'}, {'POS': 'PROPN'}, {'POS': 'PUNCT'}, {'POS': 'PROPN'}, {'POS': 'PUNCT'}],\n",
    "                   [{'POS': 'PROPN'}, {'POS': 'PROPN'}, {'POS': 'PUNCT'}, {'POS': 'PROPN'}],\n",
    "                   [{'POS': 'NUM'}, {'POS': 'PROPN'}, {'POS': 'SYM'}, {'POS': 'PROPN'}, {'POS': 'PROPN'}, {'POS': 'PROPN'}],\n",
    "                   [{'POS': 'PROPN'}, {'POS': 'PROPN'}, {'POS': 'PUNCT'}, {'POS': 'NOUN'}, {'POS': 'NOUN'}, {'POS': 'NOUN'}]]\n",
    "        matcher = Matcher(nlp.vocab)\n",
    "        matcher.add(\"Prop2\", [pattern[0]])\n",
    "        matcher.add(\"Prop21\",[pattern[1]])\n",
    "        matcher.add(\"Prop22\", [pattern[2]])\n",
    "        matcher.add(\"Prop23\", [pattern[3]])\n",
    "        matcher.add(\"Prop24\", [pattern[4]])\n",
    "        matcher.add(\"Prop25\", [pattern[5]])\n",
    "        matcher.add(\"Prop26\", [pattern[6]])\n",
    "        matcher.add(\"Prop27\", [pattern[7]])\n",
    "        matcher.add(\"Prop28\", [pattern[8]])\n",
    "        matcher.add(\"Prop29\", [pattern[9]])\n",
    "        matches = matcher(doc)\n",
    "        for match_id, start, end in matches:\n",
    "            span = doc[start:end]\n",
    "            skills.append(span.text)\n",
    "            \n",
    "    elif len(text.split()) == 5:\n",
    "        pattern = [[{'POS': 'PROPN'}, {'POS': 'PROPN'}, {'POS': 'PROPN'}, {'POS': 'PROPN'}, {'POS': 'PROPN'}],\n",
    "                   [{'POS': 'PROPN'}, {'POS': 'PROPN'}, {'POS': 'CCONJ'}, {'POS': 'PROPN'}, {'POS': 'PROPN'}],\n",
    "                   [{'POS': 'PROPN'}, {'POS': 'PROPN'}, {'POS': 'PROPN'}, {'POS': 'PROPN'}, {'POS': 'PUNCT'}, {'POS': 'PROPN'}, {'POS': 'PUNCT'}],\n",
    "                   [{'POS': 'NOUN'}, {'POS': 'SYM'}, {'POS': 'PROPN'}, {'POS': 'PUNCT'}, {'POS': 'PROPN'}, {'POS': 'CCONJ'}, {'POS': 'NOUN'}],\n",
    "                   [{'POS': 'PROPN'}, {'POS': 'ADJ'}, {'POS': 'PROPN'}, {'POS': 'PROPN'}, {'POS': 'NOUN'}],\n",
    "                   [{'POS': 'PROPN'}, {'POS': 'ADJ'}, {'POS': 'PROPN'}, {'POS': 'PROPN'}, {'POS': 'PUNCT'}, {'POS': 'PROPN'}, {'POS': 'PUNCT'}],\n",
    "                   [{'POS': 'NOUN'}, {'POS': 'PUNCT'}, {'POS': 'PROPN'}, {'POS': 'PROPN'}, {'POS': 'PUNCT'}, {'POS': 'PROPN'}, {'POS': 'PUNCT'}],\n",
    "                   [{'POS': 'PROPN'}, {'POS': 'SYM'}, {'POS': 'PROPN'}, {'POS': 'PROPN'}, {'POS': 'CCONJ'}, {'POS': 'PROPN'}, {'POS': 'PROPN'}]]\n",
    "                                                                                                              \n",
    "        matcher = Matcher(nlp.vocab)\n",
    "        matcher.add(\"Prop3\", [pattern[0]])\n",
    "        matcher.add(\"Prop31\", [pattern[1]])\n",
    "        matcher.add(\"Prop32\", [pattern[2]])\n",
    "        matcher.add(\"Prop33\", [pattern[3]])\n",
    "        matcher.add(\"Prop34\", [pattern[4]])\n",
    "        matcher.add(\"Prop35\", [pattern[5]])\n",
    "        matcher.add(\"Prop36\", [pattern[6]])\n",
    "        matcher.add(\"Prop37\", [pattern[7]])\n",
    "        matches = matcher(doc)\n",
    "        for match_id, start, end in matches:\n",
    "            span = doc[start:end]\n",
    "            skills.append(span.text)\n",
    "            \n",
    "    elif len(text.split()) == 6:\n",
    "        pattern = [[{'POS': 'PROPN'}, {'POS': 'PROPN'}, {'POS': 'NOUN'}, {'POS': 'PROPN'}, {'POS': 'PROPN'}, {'POS': 'PROPN'}],\n",
    "                   [{'POS': 'PROPN'}, {'POS': 'PROPN'}, {'POS': 'PUNCT'}, {'POS': 'PROPN'}, {'POS': 'ADJ'}, {'POS': 'NOUN'}],\n",
    "                   [{'POS': 'PROPN'}, {'POS': 'PROPN'}, {'POS': 'PROPN'}, {'POS': 'CCONJ'}, {'POS': 'PROPN'}, {'POS': 'NOUN'}],\n",
    "                   [{'POS': 'NOUN'}, {'POS': 'NOUN'}, {'POS': 'PUNCT'}, {'POS': 'NOUN'}, {'POS': 'CCONJ'}, {'POS': 'NOUN'}],\n",
    "                   [{'POS': 'PROPN'}, {'POS': 'PUNCT'}, {'POS': 'PROPN'}, {'POS': 'NOUN'}, {'POS': 'NOUN'}, {'POS': 'NOUN'}]]\n",
    "        matcher = Matcher(nlp.vocab)\n",
    "        matcher.add(\"Prop4\", [pattern[0]])\n",
    "        matcher.add(\"Prop41\", [pattern[1]])\n",
    "        matcher.add(\"Prop42\", [pattern[2]])\n",
    "        matcher.add(\"Prop43\", [pattern[3]])\n",
    "        matcher.add(\"Prop44\", [pattern[4]])\n",
    "        matches = matcher(doc)\n",
    "        for match_id, start, end in matches:\n",
    "            span = doc[start:end]\n",
    "            skills.append(span.text)\n",
    "            \n",
    "    return skills"
   ]
  },
  {
   "cell_type": "code",
   "execution_count": 9,
   "id": "d4d8ecd1",
   "metadata": {},
   "outputs": [],
   "source": [
    "def soft_skills(text):\n",
    "    doc = nlp(text)\n",
    "    soft_skills = []\n",
    "    if len(text.split()) == 1:\n",
    "        pattern = [{'POS': 'NOUN'}]\n",
    "        matcher = Matcher(nlp.vocab)\n",
    "        matcher.add(\"soft\", [pattern])\n",
    "        matches = matcher(doc)\n",
    "        for match_id, start, end in matches:\n",
    "            span = doc[start:end]\n",
    "            soft_skills.append(span.text)\n",
    "    elif len(text.split()) == 2:\n",
    "        pattern = [[{'POS': 'ADJ'}, {'POS': 'NOUN'}],\n",
    "                   [{'POS': 'NOUN'}, {'POS': 'NOUN'}]]\n",
    "        matcher = Matcher(nlp.vocab)\n",
    "        matcher.add(\"soft\", [pattern[0]])\n",
    "        matcher.add(\"soft\", [pattern[1]])\n",
    "        matches = matcher(doc)\n",
    "        for match_id, start, end in matches:\n",
    "            span = doc[start:end]\n",
    "            soft_skills.append(span.text)\n",
    "    elif len(text.split()) == 3:\n",
    "        pattern = [[{'POS':'NOUN'},{'POS': 'PART'}, {'POS': 'VERB'}],\n",
    "                    [{'POS': 'NOUN'}, {'POS': 'NOUN'}, {'POS': 'NOUN'}],\n",
    "                   [{'POS': 'NOUN'}, {'POS': 'ADJ'}, {'POS': 'NOUN'}]]\n",
    "                    \n",
    "        matcher = Matcher(nlp.vocab)\n",
    "        matcher.add(\"soft\", [pattern[0]])\n",
    "        matcher.add(\"soft\", [pattern[1]])\n",
    "        matcher.add(\"soft\", [pattern[2]])\n",
    "        matches = matcher(doc)\n",
    "        for match_id, start, end in matches:\n",
    "            span = doc[start:end]\n",
    "            soft_skills.append(span.text)\n",
    "    return soft_skills"
   ]
  },
  {
   "cell_type": "code",
   "execution_count": 10,
   "id": "b8240684",
   "metadata": {},
   "outputs": [],
   "source": [
    "Soft_Skills = df['RAW DATA'].apply(lambda x:soft_skills(x))"
   ]
  },
  {
   "cell_type": "code",
   "execution_count": 11,
   "id": "f1cac2db",
   "metadata": {},
   "outputs": [],
   "source": [
    "Technical_Skills = df['RAW DATA'].apply(lambda x: extract_tech(x))"
   ]
  },
  {
   "cell_type": "code",
   "execution_count": 12,
   "id": "41cfc7ca",
   "metadata": {},
   "outputs": [
    {
     "data": {
      "text/plain": [
       "8421"
      ]
     },
     "execution_count": 12,
     "metadata": {},
     "output_type": "execute_result"
    }
   ],
   "source": [
    "#eliminate empty values\n",
    "Technical_Skills = Technical_Skills[Technical_Skills.apply(len) > 0]\n",
    "len(Technical_Skills)"
   ]
  },
  {
   "cell_type": "markdown",
   "id": "dfa1342f",
   "metadata": {},
   "source": [
    "There are 8421 technical skills according to the defined patterns derived from the example dataset."
   ]
  },
  {
   "cell_type": "code",
   "execution_count": 13,
   "id": "0f3d33a3",
   "metadata": {},
   "outputs": [
    {
     "data": {
      "text/plain": [
       "5             [Java Streams]\n",
       "7     [Relational Databases]\n",
       "8                      [SQL]\n",
       "11               [Hibernate]\n",
       "12                 [MyBatis]\n",
       "Name: RAW DATA, dtype: object"
      ]
     },
     "execution_count": 13,
     "metadata": {},
     "output_type": "execute_result"
    }
   ],
   "source": [
    "Technical_Skills.head()"
   ]
  },
  {
   "cell_type": "code",
   "execution_count": 14,
   "id": "4b9c3869",
   "metadata": {},
   "outputs": [
    {
     "data": {
      "text/plain": [
       "12899"
      ]
     },
     "execution_count": 14,
     "metadata": {},
     "output_type": "execute_result"
    }
   ],
   "source": [
    "#eliminate empty values\n",
    "Soft_Skills = Soft_Skills[Soft_Skills.apply(len) > 0]\n",
    "len(Soft_Skills)"
   ]
  },
  {
   "cell_type": "markdown",
   "id": "9ab23fea",
   "metadata": {},
   "source": [
    "Using the patterns defined, there are 12899 soft skills contained in the dataset. Let's preview some."
   ]
  },
  {
   "cell_type": "code",
   "execution_count": 15,
   "id": "f1c5bf09",
   "metadata": {},
   "outputs": [
    {
     "data": {
      "text/plain": [
       "1          [seniority]\n",
       "2        [familiarity]\n",
       "3    [functionalities]\n",
       "4            [Lambdas]\n",
       "9                [ORM]\n",
       "Name: RAW DATA, dtype: object"
      ]
     },
     "execution_count": 15,
     "metadata": {},
     "output_type": "execute_result"
    }
   ],
   "source": [
    "Soft_Skills.head()"
   ]
  },
  {
   "cell_type": "markdown",
   "id": "8a79fc2a",
   "metadata": {},
   "source": [
    "There are some anomalies in the soft skills extracted, as well as some omitted from the technical skills dataset. This is owing to the duality of the singular POS tag NOUN, which can appear as both a technical skill and soft skill. However, the singular NOUN tag predominantly contains soft skills, hence the grouping into the soft skills category."
   ]
  },
  {
   "cell_type": "code",
   "execution_count": null,
   "id": "aae78844",
   "metadata": {},
   "outputs": [],
   "source": []
  }
 ],
 "metadata": {
  "kernelspec": {
   "display_name": "Python 3",
   "language": "python",
   "name": "python3"
  },
  "language_info": {
   "codemirror_mode": {
    "name": "ipython",
    "version": 3
   },
   "file_extension": ".py",
   "mimetype": "text/x-python",
   "name": "python",
   "nbconvert_exporter": "python",
   "pygments_lexer": "ipython3",
   "version": "3.8.8"
  }
 },
 "nbformat": 4,
 "nbformat_minor": 5
}
