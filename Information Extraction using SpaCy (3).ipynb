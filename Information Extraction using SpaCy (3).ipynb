{
 "cells": [
  {
   "cell_type": "code",
   "execution_count": 1,
   "id": "2db7fa2b",
   "metadata": {},
   "outputs": [],
   "source": [
    "import spacy\n",
    "nlp = spacy.load('en_core_web_sm')\n",
    "from spacy.matcher import Matcher\n",
    "import pandas as pd\n",
    "df = pd.read_csv(r\"C:/Users/uchei/OneDrive/Desktop/Gozie/Raw_Skills_Dataset.csv\")"
   ]
  },
  {
   "cell_type": "code",
   "execution_count": 2,
   "id": "6c4a7eee",
   "metadata": {},
   "outputs": [
    {
     "data": {
      "text/html": [
       "<div>\n",
       "<style scoped>\n",
       "    .dataframe tbody tr th:only-of-type {\n",
       "        vertical-align: middle;\n",
       "    }\n",
       "\n",
       "    .dataframe tbody tr th {\n",
       "        vertical-align: top;\n",
       "    }\n",
       "\n",
       "    .dataframe thead th {\n",
       "        text-align: right;\n",
       "    }\n",
       "</style>\n",
       "<table border=\"1\" class=\"dataframe\">\n",
       "  <thead>\n",
       "    <tr style=\"text-align: right;\">\n",
       "      <th></th>\n",
       "      <th>RAW DATA</th>\n",
       "    </tr>\n",
       "  </thead>\n",
       "  <tbody>\n",
       "    <tr>\n",
       "      <th>0</th>\n",
       "      <td>What ifs</td>\n",
       "    </tr>\n",
       "    <tr>\n",
       "      <th>1</th>\n",
       "      <td>seniority</td>\n",
       "    </tr>\n",
       "    <tr>\n",
       "      <th>2</th>\n",
       "      <td>familiarity</td>\n",
       "    </tr>\n",
       "    <tr>\n",
       "      <th>3</th>\n",
       "      <td>functionalities</td>\n",
       "    </tr>\n",
       "    <tr>\n",
       "      <th>4</th>\n",
       "      <td>Lambdas</td>\n",
       "    </tr>\n",
       "  </tbody>\n",
       "</table>\n",
       "</div>"
      ],
      "text/plain": [
       "          RAW DATA\n",
       "0         What ifs\n",
       "1        seniority\n",
       "2      familiarity\n",
       "3  functionalities\n",
       "4          Lambdas"
      ]
     },
     "execution_count": 2,
     "metadata": {},
     "output_type": "execute_result"
    }
   ],
   "source": [
    "df.head()"
   ]
  },
  {
   "cell_type": "code",
   "execution_count": 3,
   "id": "af35aa29",
   "metadata": {},
   "outputs": [
    {
     "data": {
      "text/plain": [
       "(34116, 1)"
      ]
     },
     "execution_count": 3,
     "metadata": {},
     "output_type": "execute_result"
    }
   ],
   "source": [
    "df.shape"
   ]
  },
  {
   "cell_type": "markdown",
   "id": "53bdbdf8",
   "metadata": {},
   "source": [
    "There are 34116 samples in the raw data. Let's filter out the useful information."
   ]
  },
  {
   "cell_type": "code",
   "execution_count": 4,
   "id": "a6446789",
   "metadata": {},
   "outputs": [],
   "source": [
    "def patterns(text):\n",
    "    doc = nlp(text)\n",
    "    patterns = []\n",
    "    for token in doc:\n",
    "        patterns.append(token.pos_)\n",
    "    return patterns"
   ]
  },
  {
   "cell_type": "markdown",
   "id": "fd8a9a42",
   "metadata": {},
   "source": [
    "Let's extract the patterns from the example dataset."
   ]
  },
  {
   "cell_type": "code",
   "execution_count": 5,
   "id": "6a080842",
   "metadata": {},
   "outputs": [
    {
     "data": {
      "text/html": [
       "<div>\n",
       "<style scoped>\n",
       "    .dataframe tbody tr th:only-of-type {\n",
       "        vertical-align: middle;\n",
       "    }\n",
       "\n",
       "    .dataframe tbody tr th {\n",
       "        vertical-align: top;\n",
       "    }\n",
       "\n",
       "    .dataframe thead th {\n",
       "        text-align: right;\n",
       "    }\n",
       "</style>\n",
       "<table border=\"1\" class=\"dataframe\">\n",
       "  <thead>\n",
       "    <tr style=\"text-align: right;\">\n",
       "      <th></th>\n",
       "      <th>Technology Skills</th>\n",
       "    </tr>\n",
       "  </thead>\n",
       "  <tbody>\n",
       "    <tr>\n",
       "      <th>0</th>\n",
       "      <td>SAP Fiori Developer</td>\n",
       "    </tr>\n",
       "    <tr>\n",
       "      <th>1</th>\n",
       "      <td>Oracle Instance Management &amp; Strategy</td>\n",
       "    </tr>\n",
       "    <tr>\n",
       "      <th>2</th>\n",
       "      <td>Boomi Master Data Management</td>\n",
       "    </tr>\n",
       "    <tr>\n",
       "      <th>3</th>\n",
       "      <td>Digital Manufacturing on Cloud ( DMC)</td>\n",
       "    </tr>\n",
       "    <tr>\n",
       "      <th>4</th>\n",
       "      <td>DevOps</td>\n",
       "    </tr>\n",
       "  </tbody>\n",
       "</table>\n",
       "</div>"
      ],
      "text/plain": [
       "                       Technology Skills\n",
       "0                    SAP Fiori Developer\n",
       "1  Oracle Instance Management & Strategy\n",
       "2           Boomi Master Data Management\n",
       "3  Digital Manufacturing on Cloud ( DMC)\n",
       "4                                 DevOps"
      ]
     },
     "execution_count": 5,
     "metadata": {},
     "output_type": "execute_result"
    }
   ],
   "source": [
    "examples = pd.read_csv(r\"C:/Users/uchei/OneDrive/Desktop/Gozie/Example_Technical_Skills.csv\")\n",
    "examples.head()"
   ]
  },
  {
   "cell_type": "code",
   "execution_count": 6,
   "id": "7913d6d1",
   "metadata": {},
   "outputs": [],
   "source": [
    "examples['Patterns'] = examples['Technology Skills'].apply(lambda x:patterns(x))"
   ]
  },
  {
   "cell_type": "code",
   "execution_count": 7,
   "id": "d999adc2",
   "metadata": {},
   "outputs": [
    {
     "data": {
      "text/html": [
       "<div>\n",
       "<style scoped>\n",
       "    .dataframe tbody tr th:only-of-type {\n",
       "        vertical-align: middle;\n",
       "    }\n",
       "\n",
       "    .dataframe tbody tr th {\n",
       "        vertical-align: top;\n",
       "    }\n",
       "\n",
       "    .dataframe thead th {\n",
       "        text-align: right;\n",
       "    }\n",
       "</style>\n",
       "<table border=\"1\" class=\"dataframe\">\n",
       "  <thead>\n",
       "    <tr style=\"text-align: right;\">\n",
       "      <th></th>\n",
       "      <th>Technology Skills</th>\n",
       "      <th>Patterns</th>\n",
       "    </tr>\n",
       "  </thead>\n",
       "  <tbody>\n",
       "    <tr>\n",
       "      <th>0</th>\n",
       "      <td>SAP Fiori Developer</td>\n",
       "      <td>[PROPN, PROPN, PROPN]</td>\n",
       "    </tr>\n",
       "    <tr>\n",
       "      <th>1</th>\n",
       "      <td>Oracle Instance Management &amp; Strategy</td>\n",
       "      <td>[PROPN, PROPN, PROPN, CCONJ, PROPN]</td>\n",
       "    </tr>\n",
       "    <tr>\n",
       "      <th>2</th>\n",
       "      <td>Boomi Master Data Management</td>\n",
       "      <td>[PROPN, PROPN, PROPN, PROPN]</td>\n",
       "    </tr>\n",
       "    <tr>\n",
       "      <th>3</th>\n",
       "      <td>Digital Manufacturing on Cloud ( DMC)</td>\n",
       "      <td>[PROPN, PROPN, ADP, PROPN, PUNCT, PROPN, PUNCT]</td>\n",
       "    </tr>\n",
       "    <tr>\n",
       "      <th>4</th>\n",
       "      <td>DevOps</td>\n",
       "      <td>[PROPN]</td>\n",
       "    </tr>\n",
       "  </tbody>\n",
       "</table>\n",
       "</div>"
      ],
      "text/plain": [
       "                       Technology Skills  \\\n",
       "0                    SAP Fiori Developer   \n",
       "1  Oracle Instance Management & Strategy   \n",
       "2           Boomi Master Data Management   \n",
       "3  Digital Manufacturing on Cloud ( DMC)   \n",
       "4                                 DevOps   \n",
       "\n",
       "                                          Patterns  \n",
       "0                            [PROPN, PROPN, PROPN]  \n",
       "1              [PROPN, PROPN, PROPN, CCONJ, PROPN]  \n",
       "2                     [PROPN, PROPN, PROPN, PROPN]  \n",
       "3  [PROPN, PROPN, ADP, PROPN, PUNCT, PROPN, PUNCT]  \n",
       "4                                          [PROPN]  "
      ]
     },
     "execution_count": 7,
     "metadata": {},
     "output_type": "execute_result"
    }
   ],
   "source": [
    "examples.head()"
   ]
  },
  {
   "cell_type": "markdown",
   "id": "b27654bf",
   "metadata": {},
   "source": [
    "Using these defined patterns and finding similarities, we can create our own Rule-Based POS Matching"
   ]
  },
  {
   "cell_type": "code",
   "execution_count": 8,
   "id": "3dadf7eb",
   "metadata": {},
   "outputs": [],
   "source": [
    "def extract_patterns(text):\n",
    "    doc = nlp(text)\n",
    "    patterns = []\n",
    "    if len(text.split()) ==1:\n",
    "        for token in doc:\n",
    "            patterns.append(token.pos_)\n",
    "    return patterns"
   ]
  },
  {
   "cell_type": "code",
   "execution_count": 9,
   "id": "59f840c5",
   "metadata": {},
   "outputs": [],
   "source": [
    "one_word= examples['Technology Skills'].apply(lambda x:extract_patterns(x))"
   ]
  },
  {
   "cell_type": "code",
   "execution_count": 10,
   "id": "c1f3069c",
   "metadata": {},
   "outputs": [],
   "source": [
    "one_word = one_word[one_word.apply(len) > 0]\n",
    "one_word= one_word.apply(lambda x: ','.join(map(str,x)))"
   ]
  },
  {
   "cell_type": "code",
   "execution_count": 11,
   "id": "034b7a28",
   "metadata": {},
   "outputs": [
    {
     "data": {
      "text/plain": [
       "array(['PROPN', 'INTJ', 'NOUN', 'VERB', 'ADJ', 'PROPN,PUNCT,NOUN', 'ADV',\n",
       "       'PROPN,SYM,NOUN', 'VERB,PUNCT,VERB'], dtype=object)"
      ]
     },
     "execution_count": 11,
     "metadata": {},
     "output_type": "execute_result"
    }
   ],
   "source": [
    "one_word.unique()"
   ]
  },
  {
   "cell_type": "code",
   "execution_count": 12,
   "id": "47e1ccdc",
   "metadata": {},
   "outputs": [],
   "source": [
    "def extract_two_words(text):\n",
    "    doc = nlp(text)\n",
    "    patterns = []\n",
    "    if len(text.split()) == 2:\n",
    "        for token in doc:\n",
    "            patterns.append(token.pos_)\n",
    "    return patterns"
   ]
  },
  {
   "cell_type": "code",
   "execution_count": 13,
   "id": "5b37469e",
   "metadata": {},
   "outputs": [],
   "source": [
    "two_words = examples['Technology Skills'].apply(lambda x:extract_two_words(x))\n",
    "two_words = two_words[two_words.apply(len) > 0]\n",
    "two_words= two_words.apply(lambda x: ','.join(map(str,x)))"
   ]
  },
  {
   "cell_type": "code",
   "execution_count": 14,
   "id": "0b017524",
   "metadata": {},
   "outputs": [
    {
     "data": {
      "text/plain": [
       "array(['PROPN,PROPN', 'ADJ,ADJ', 'NOUN,VERB', 'PROPN,NOUN', 'NOUN,NUM',\n",
       "       'PROPN,PROPN,SYM,PROPN,SYM,PROPN', 'VERB,PROPN,SYM,PROPN',\n",
       "       'NOUN,NOUN', 'PROPN,PUNCT,PROPN,PUNCT', 'ADJ,NOUN', 'PROPN,VERB',\n",
       "       'INTJ,NOUN', 'NUM,NOUN', 'NOUN,PROPN', 'ADJ,PROPN',\n",
       "       'PROPN,ADJ,ADJ,NOUN', 'ADP,NOUN', 'ADJ,VERB',\n",
       "       'PROPN,PROPN,PUNCT,PROPN', 'PROPN,ADP', 'VERB,NOUN', 'VERB,VERB',\n",
       "       'PROPN,PUNCT', 'VERB,PROPN', 'NOUN,PUNCT,ADP,PUNCT,NOUN,NOUN',\n",
       "       'PROPN,SYM,PROPN,PROPN', 'NOUN,SYM,PROPN,PROPN',\n",
       "       'PROPN,SYM,NOUN,PUNCT,NOUN,NOUN', 'PUNCT,PROPN',\n",
       "       'PROPN,PUNCT,PROPN,PROPN'], dtype=object)"
      ]
     },
     "execution_count": 14,
     "metadata": {},
     "output_type": "execute_result"
    }
   ],
   "source": [
    "two_words.unique()"
   ]
  },
  {
   "cell_type": "code",
   "execution_count": 15,
   "id": "6c3bd014",
   "metadata": {},
   "outputs": [],
   "source": [
    "def extract_three_words(text):\n",
    "    doc = nlp(text)\n",
    "    patterns = []\n",
    "    if len(text.split()) == 3:\n",
    "        for token in doc:\n",
    "            patterns.append(token.pos_)\n",
    "    return patterns"
   ]
  },
  {
   "cell_type": "code",
   "execution_count": 16,
   "id": "165adeda",
   "metadata": {},
   "outputs": [],
   "source": [
    "three_words = examples['Technology Skills'].apply(lambda x:extract_three_words(x))\n",
    "three_words = three_words[three_words.apply(len) > 0]\n",
    "three_words= three_words.apply(lambda x: ','.join(map(str,x)))"
   ]
  },
  {
   "cell_type": "code",
   "execution_count": 17,
   "id": "f5b53a48",
   "metadata": {},
   "outputs": [
    {
     "data": {
      "text/plain": [
       "array(['PROPN,PROPN,PROPN', 'PROPN,SYM,PROPN', 'PROPN,PROPN,NOUN',\n",
       "       'PROPN,PROPN,PUNCT,PROPN,PROPN', 'NOUN,CCONJ,NOUN',\n",
       "       'NOUN,NOUN,PUNCT,PROPN,PUNCT', 'PROPN,PROPN,PUNCT,PROPN,PUNCT',\n",
       "       'ADJ,PROPN,PUNCT,PROPN,PUNCT', 'NOUN,ADP,NOUN', 'NOUN,PROPN,NOUN',\n",
       "       'NOUN,PROPN,PROPN', 'PROPN,PROPN,VERB', 'ADJ,NOUN,NOUN',\n",
       "       'PROPN,NOUN,NOUN', 'PROPN,PROPN,NOUN,PUNCT', 'PROPN,PUNCT,ADJ',\n",
       "       'PROPN,PUNCT,PROPN', 'PROPN,PROPN,PROPN,SYM,PROPN',\n",
       "       'PROPN,PROPN,SYM,PROPN,PROPN', 'PROPN,ADJ,NOUN,PUNCT,ADP',\n",
       "       'PROPN,PROPN,NUM,NOUN', 'NOUN,PROPN,PROPN,PUNCT,PROPN',\n",
       "       'NOUN,NOUN,PROPN', 'NOUN,PUNCT,PROPN,PROPN,PROPN,PUNCT',\n",
       "       'PROPN,ADP,NOUN', 'PROPN,PUNCT,PROPN,PROPN', 'PROPN,PROPN,NUM',\n",
       "       'PROPN,SYM,PROPN,PROPN,PROPN', 'NOUN,VERB,NOUN',\n",
       "       'PROPN,PROPN,PUNCT,NOUN,PUNCT', 'PROPN,NOUN,PROPN',\n",
       "       'NOUN,PUNCT,PROPN,PROPN', 'NOUN,PROPN,PUNCT,PROPN,PUNCT',\n",
       "       'PROPN,ADJ,NOUN', 'PROPN,PROPN,PROPN,PUNCT,PROPN',\n",
       "       'NOUN,PUNCT,PROPN', 'PROPN,PUNCT,NOUN',\n",
       "       'PROPN,PROPN,PROPN,PROPN,PUNCT,PROPN,PUNCT',\n",
       "       'NOUN,PUNCT,NOUN,NOUN,NOUN', 'ADV,PROPN,PROPN', 'VERB,PROPN,PROPN',\n",
       "       'NOUN,NOUN,NOUN', 'NOUN,PROPN,VERB', 'PROPN,PUNCT,X',\n",
       "       'PROPN,PROPN,PUNCT,PROPN,PUNCT,PROPN,PUNCT', 'NOUN,PUNCT,NOUN',\n",
       "       'PROPN,PROPN,PUNCT,PROPN,SYM,PROPN,SYM,PROPN,SYM,PROPN,PUNCT'],\n",
       "      dtype=object)"
      ]
     },
     "execution_count": 17,
     "metadata": {},
     "output_type": "execute_result"
    }
   ],
   "source": [
    "three_words.unique()"
   ]
  },
  {
   "cell_type": "code",
   "execution_count": 18,
   "id": "ad03eb11",
   "metadata": {},
   "outputs": [],
   "source": [
    "def extract_four_words(text):\n",
    "    doc = nlp(text)\n",
    "    patterns = []\n",
    "    if len(text.split()) == 4:\n",
    "        for token in doc:\n",
    "            patterns.append(token.pos_)\n",
    "    return patterns"
   ]
  },
  {
   "cell_type": "code",
   "execution_count": 19,
   "id": "a0cea989",
   "metadata": {},
   "outputs": [],
   "source": [
    "four_words = examples['Technology Skills'].apply(lambda x:extract_four_words(x))\n",
    "four_words = four_words[four_words.apply(len) > 0]\n",
    "four_words= four_words.apply(lambda x: ','.join(map(str,x)))"
   ]
  },
  {
   "cell_type": "code",
   "execution_count": 20,
   "id": "c18b5ea8",
   "metadata": {},
   "outputs": [
    {
     "data": {
      "text/plain": [
       "array(['PROPN,PROPN,PROPN,PROPN', 'NOUN,PUNCT,PROPN,PROPN',\n",
       "       'PROPN,PROPN,SYM,PROPN', 'PROPN,PROPN,PROPN,PUNCT,PROPN,PUNCT',\n",
       "       'NOUN,PROPN,PROPN,NOUN', 'NOUN,PUNCT,NOUN,PROPN,PUNCT,PROPN',\n",
       "       'NOUN,PROPN,PROPN,PROPN', 'PROPN,PROPN,CCONJ,PROPN',\n",
       "       'NOUN,ADP,NOUN,NOUN', 'PROPN,PROPN,NOUN,VERB',\n",
       "       'PROPN,PROPN,PUNCT,PROPN', 'PROPN,PROPN,PUNCT,PROPN,PROPN,PUNCT',\n",
       "       'NUM,PROPN,PROPN,SYM,PROPN,PROPN,PROPN', 'PROPN,PROPN,NOUN,NOUN',\n",
       "       'PROPN,PROPN,PUNCT,NOUN,NOUN,NOUN', 'PROPN,PUNCT,PROPN,NOUN',\n",
       "       'PROPN,VERB,NOUN,NOUN', 'PROPN,PUNCT,PROPN,PROPN',\n",
       "       'PROPN,PROPN,VERB,NOUN', 'PROPN,PROPN,PROPN,PUNCT,NOUN,PUNCT',\n",
       "       'PROPN,SYM,PROPN,PROPN,SYM,PROPN,PROPN,PROPN',\n",
       "       'PROPN,PROPN,PROPN,VERB,PUNCT,ADP', 'PROPN,NUM,NUM,NOUN',\n",
       "       'PROPN,PROPN,PROPN,VERB', 'PROPN,PROPN,VERB,ADJ',\n",
       "       'PROPN,PUNCT,NOUN,PROPN,PUNCT,PROPN', 'PROPN,PROPN,SYM,NOUN',\n",
       "       'PROPN,PUNCT,ADJ,ADJ,ADJ,NOUN', 'PROPN,PROPN,PROPN,NOUN',\n",
       "       'PROPN,PUNCT,PROPN,PROPN,SYM,PROPN,PUNCT,NOUN',\n",
       "       'PROPN,PUNCT,PROPN,PROPN,PROPN,PROPN',\n",
       "       'PROPN,PROPN,NOUN,PUNCT,PROPN,PUNCT', 'PROPN,NOUN,ADP,NOUN',\n",
       "       'ADJ,AUX,PROPN,PROPN,PUNCT', 'VERB,PROPN,PROPN,PROPN',\n",
       "       'PROPN,PUNCT,PROPN,PROPN,PROPN,PUNCT', 'PROPN,PROPN,ADP,PROPN',\n",
       "       'PROPN,PUNCT,NOUN,NOUN',\n",
       "       'PROPN,PROPN,PROPN,SYM,PROPN,PUNCT,PROPN,PUNCT',\n",
       "       'PROPN,VERB,PROPN,PROPN', 'PROPN,PROPN,PROPN,PROPN,PUNCT,ADP',\n",
       "       'NOUN,SYM,PROPN,PROPN,PUNCT,PROPN,NOUN,PUNCT,ADP,PUNCT',\n",
       "       'ADJ,PROPN,PROPN,PROPN,PUNCT', 'PROPN,PROPN,AUX,VERB',\n",
       "       'PROPN,AUX,NOUN,NOUN',\n",
       "       'PROPN,PUNCT,PROPN,PROPN,SYM,PROPN,PUNCT,PROPN',\n",
       "       'PROPN,PROPN,PUNCT,NOUN', 'PROPN,PROPN,NOUN,PROPN',\n",
       "       'PROPN,SYM,PROPN,PROPN,PROPN,NOUN', 'VERB,PROPN,NOUN,PROPN',\n",
       "       'VERB,PUNCT,PROPN,PROPN,PROPN,PUNCT',\n",
       "       'PROPN,PROPN,PROPN,PROPN,PROPN,NOUN',\n",
       "       'PROPN,PROPN,PUNCT,PROPN,PUNCT,PROPN',\n",
       "       'PROPN,PUNCT,PROPN,PUNCT,PROPN,PUNCT,PROPN',\n",
       "       'PROPN,PROPN,NOUN,PROPN,PROPN,PROPN',\n",
       "       'PROPN,SYM,PROPN,PROPN,PROPN,PROPN'], dtype=object)"
      ]
     },
     "execution_count": 20,
     "metadata": {},
     "output_type": "execute_result"
    }
   ],
   "source": [
    "four_words.unique()"
   ]
  },
  {
   "cell_type": "code",
   "execution_count": 21,
   "id": "b04661a2",
   "metadata": {},
   "outputs": [],
   "source": [
    "def extract_five_words(text):\n",
    "    doc = nlp(text)\n",
    "    patterns = []\n",
    "    if len(text.split()) == 5:\n",
    "        for token in doc:\n",
    "            patterns.append(token.pos_)\n",
    "    return patterns"
   ]
  },
  {
   "cell_type": "code",
   "execution_count": 22,
   "id": "77ea6ba2",
   "metadata": {},
   "outputs": [
    {
     "data": {
      "text/plain": [
       "array(['PROPN,PROPN,PROPN,CCONJ,PROPN',\n",
       "       'PROPN,PROPN,PROPN,PROPN,PUNCT,PROPN,PUNCT',\n",
       "       'PROPN,PROPN,PROPN,PROPN,PROPN',\n",
       "       'PROPN,AUX,PROPN,PROPN,PUNCT,PROPN,PUNCT',\n",
       "       'NOUN,PROPN,PROPN,PROPN,PROPN',\n",
       "       'NOUN,SYM,PROPN,PUNCT,PROPN,CCONJ,NOUN',\n",
       "       'PROPN,PUNCT,PROPN,PROPN,PROPN', 'PROPN,ADJ,PROPN,PROPN,NOUN',\n",
       "       'PROPN,ADJ,PROPN,PROPN,PUNCT,PROPN,PUNCT',\n",
       "       'PROPN,PROPN,CCONJ,PROPN,PROPN', 'PROPN,PROPN,PUNCT,PROPN,PROPN',\n",
       "       'NOUN,PUNCT,PROPN,PROPN,PUNCT,PROPN,PUNCT',\n",
       "       'PROPN,PROPN,PUNCT,PROPN,PROPN,PROPN,PUNCT',\n",
       "       'PROPN,SYM,PROPN,PROPN,CCONJ,PROPN,PROPN',\n",
       "       'PROPN,NOUN,PROPN,PROPN,PUNCT,PROPN,PUNCT',\n",
       "       'NOUN,VERB,PROPN,PROPN,PROPN', 'NOUN,PROPN,PUNCT,PROPN,PROPN',\n",
       "       'NOUN,PROPN,PROPN,PROPN,PUNCT,PROPN,PUNCT',\n",
       "       'PROPN,PROPN,PROPN,PROPN,PUNCT,NOUN,PUNCT',\n",
       "       'PROPN,PROPN,NOUN,NOUN,NOUN', 'NOUN,NOUN,ADP,PROPN,NUM',\n",
       "       'PROPN,PROPN,PROPN,ADP,NOUN',\n",
       "       'PROPN,PROPN,PUNCT,PROPN,PUNCT,PROPN,PROPN',\n",
       "       'PROPN,PUNCT,PROPN,CCONJ,NOUN',\n",
       "       'PROPN,PROPN,ADP,PROPN,PUNCT,PROPN,PUNCT',\n",
       "       'PROPN,PROPN,NOUN,NOUN,PUNCT,PROPN,PUNCT',\n",
       "       'PROPN,PROPN,PROPN,PUNCT,NOUN', 'PROPN,PROPN,PROPN,PUNCT,PROPN',\n",
       "       'PROPN,PROPN,PROPN,PUNCT,PROPN,PROPN',\n",
       "       'PROPN,PROPN,ADP,PROPN,PROPN', 'NUM,PROPN,PROPN,PROPN,CCONJ,PROPN',\n",
       "       'PROPN,PROPN,PUNCT,VERB,NOUN',\n",
       "       'PROPN,NOUN,NOUN,PROPN,PUNCT,PROPN,PUNCT',\n",
       "       'PROPN,ADJ,PROPN,PUNCT,PROPN', 'NUM,PROPN,PROPN,PROPN,PROPN,PROPN',\n",
       "       'NOUN,ADP,PROPN,PROPN,PUNCT,PROPN,PUNCT',\n",
       "       'VERB,PROPN,PROPN,PROPN,PROPN', 'PROPN,PROPN,PROPN,NOUN,PROPN',\n",
       "       'PROPN,PROPN,PUNCT,PROPN,PUNCT,PROPN,PUNCT,PUNCT,PROPN,PUNCT',\n",
       "       'PROPN,PROPN,PUNCT,PROPN,CCONJ,PROPN,PUNCT,NOUN,PROPN',\n",
       "       'PROPN,PROPN,PROPN,ADP,PROPN', 'PROPN,PROPN,PROPN,PROPN,NOUN',\n",
       "       'PROPN,PROPN,PUNCT,PROPN,SYM,PROPN,PROPN,NOUN',\n",
       "       'PROPN,PROPN,PUNCT,PROPN,PUNCT,PROPN,PROPN,PUNCT',\n",
       "       'PROPN,PROPN,PROPN,PROPN,VERB',\n",
       "       'PROPN,PUNCT,PROPN,PUNCT,PROPN,CCONJ,PROPN',\n",
       "       'PROPN,ADJ,PUNCT,ADJ,PROPN', 'VERB,PROPN,PUNCT,PROPN,NOUN',\n",
       "       'PROPN,PROPN,PROPN,SYM,PROPN,PROPN,PUNCT,PROPN,PUNCT',\n",
       "       'PROPN,PUNCT,PROPN,SYM,NOUN,PUNCT,PROPN,CCONJ,PROPN',\n",
       "       'PROPN,PROPN,PROPN,PUNCT,PROPN,PUNCT,PROPN',\n",
       "       'PROPN,PROPN,PROPN,PROPN,PROPN,PUNCT',\n",
       "       'PROPN,CCONJ,PROPN,PROPN,PUNCT,PROPN,PUNCT',\n",
       "       'PROPN,PROPN,SYM,NOUN,NOUN,PROPN,PROPN',\n",
       "       'VERB,PROPN,PROPN,CCONJ,PROPN', 'VERB,NUM,NOUN,CCONJ,PROPN,PROPN'],\n",
       "      dtype=object)"
      ]
     },
     "execution_count": 22,
     "metadata": {},
     "output_type": "execute_result"
    }
   ],
   "source": [
    "five_words = examples['Technology Skills'].apply(lambda x:extract_five_words(x))\n",
    "five_words = five_words[five_words.apply(len) > 0]\n",
    "five_words= five_words.apply(lambda x: ','.join(map(str,x)))\n",
    "five_words.unique()"
   ]
  },
  {
   "cell_type": "code",
   "execution_count": 23,
   "id": "d03368bb",
   "metadata": {},
   "outputs": [],
   "source": [
    "def extract_six_words(text):\n",
    "    doc = nlp(text)\n",
    "    patterns = []\n",
    "    if len(text.split()) == 6:\n",
    "        for token in doc:\n",
    "            patterns.append(token.pos_)\n",
    "    return patterns"
   ]
  },
  {
   "cell_type": "code",
   "execution_count": 24,
   "id": "3aef4d3b",
   "metadata": {},
   "outputs": [
    {
     "data": {
      "text/plain": [
       "array(['PROPN,PROPN,ADP,PROPN,PUNCT,PROPN,PUNCT',\n",
       "       'PROPN,PUNCT,PROPN,NOUN,PROPN,PROPN',\n",
       "       'PROPN,PROPN,PROPN,PROPN,PROPN,PROPN',\n",
       "       'PROPN,PROPN,NOUN,PROPN,PROPN,PROPN',\n",
       "       'PROPN,PROPN,PROPN,CCONJ,PROPN,NOUN',\n",
       "       'NOUN,NOUN,PUNCT,NOUN,CCONJ,NOUN',\n",
       "       'PROPN,PUNCT,PROPN,NOUN,NOUN,NOUN',\n",
       "       'PROPN,PROPN,PROPN,PUNCT,NOUN,PUNCT,PROPN,X,PUNCT',\n",
       "       'PROPN,PROPN,NOUN,PROPN,PROPN,PUNCT,PROPN,PUNCT',\n",
       "       'PROPN,PROPN,PROPN,PROPN,PUNCT,PROPN',\n",
       "       'PROPN,PUNCT,NOUN,PUNCT,NOUN,SYM,PROPN,PUNCT,PROPN,CCONJ,PROPN',\n",
       "       'PROPN,PROPN,PROPN,PROPN,PROPN,PUNCT,PROPN,PROPN,PROPN,PUNCT',\n",
       "       'ADJ,SYM,ADJ,SYM,ADJ,NOUN',\n",
       "       'PROPN,PUNCT,PROPN,PUNCT,PROPN,PUNCT,PROPN,CCONJ,PROPN',\n",
       "       'PROPN,PROPN,PROPN,PROPN,CCONJ,PROPN',\n",
       "       'PROPN,PROPN,CCONJ,PROPN,PUNCT,PROPN,PUNCT,PUNCT,PROPN,PUNCT',\n",
       "       'PROPN,PROPN,NUM,PUNCT,PROPN,NOUN',\n",
       "       'PROPN,PROPN,PROPN,PROPN,PROPN,PUNCT,PROPN,PUNCT',\n",
       "       'PROPN,PROPN,PROPN,CCONJ,PROPN,PROPN',\n",
       "       'PROPN,PROPN,PUNCT,PROPN,PROPN,PROPN',\n",
       "       'PROPN,NUM,PROPN,PUNCT,PROPN,NOUN',\n",
       "       'PROPN,PROPN,PROPN,PROPN,ADP,PROPN',\n",
       "       'VERB,PROPN,PUNCT,PROPN,PROPN,NOUN',\n",
       "       'PROPN,PROPN,PROPN,PUNCT,PROPN,PUNCT,PROPN,PUNCT,PROPN,PUNCT',\n",
       "       'PROPN,PROPN,PROPN,PROPN,CCONJ,PUNCT,PROPN,PUNCT',\n",
       "       'PROPN,PUNCT,PROPN,PROPN,PROPN,PUNCT,PROPN,PUNCT',\n",
       "       'NOUN,ADP,PROPN,PROPN,PROPN,PROPN',\n",
       "       'PROPN,PROPN,ADJ,PROPN,PROPN,PUNCT,PROPN,PROPN,PROPN,PUNCT',\n",
       "       'NOUN,PROPN,PROPN,PROPN,ADP,PROPN',\n",
       "       'PROPN,PROPN,PROPN,PROPN,PROPN,PUNCT,PUNCT,PROPN,PUNCT',\n",
       "       'PROPN,PROPN,PROPN,NUM,NOUN,PROPN,PROPN',\n",
       "       'NOUN,PUNCT,PROPN,PROPN,PROPN,PROPN',\n",
       "       'PROPN,PROPN,PROPN,PROPN,ADP,NOUN',\n",
       "       'PROPN,PUNCT,PROPN,PROPN,PROPN,NOUN',\n",
       "       'PROPN,PROPN,PROPN,PUNCT,PROPN,NOUN',\n",
       "       'ADJ,NOUN,NOUN,CCONJ,NOUN,PROPN',\n",
       "       'NOUN,PROPN,PROPN,PROPN,PROPN,PROPN',\n",
       "       'PROPN,PROPN,CCONJ,PROPN,PROPN,PUNCT,PROPN,PUNCT'], dtype=object)"
      ]
     },
     "execution_count": 24,
     "metadata": {},
     "output_type": "execute_result"
    }
   ],
   "source": [
    "six_words = examples['Technology Skills'].apply(lambda x:extract_six_words(x))\n",
    "six_words = six_words[six_words.apply(len) > 0]\n",
    "six_words= six_words.apply(lambda x: ','.join(map(str,x)))\n",
    "six_words.unique()"
   ]
  },
  {
   "cell_type": "code",
   "execution_count": 25,
   "id": "b05cc9af",
   "metadata": {},
   "outputs": [],
   "source": [
    "def extract_seven_words(text):\n",
    "    doc = nlp(text)\n",
    "    patterns = []\n",
    "    if len(text.split()) == 7:\n",
    "        for token in doc:\n",
    "            patterns.append(token.pos_)\n",
    "    return patterns"
   ]
  },
  {
   "cell_type": "code",
   "execution_count": 26,
   "id": "32a76142",
   "metadata": {},
   "outputs": [
    {
     "data": {
      "text/plain": [
       "array(['PROPN,PROPN,PROPN,PROPN,ADP,PROPN,PUNCT,PROPN',\n",
       "       'PROPN,VERB,PUNCT,PROPN,PROPN,CCONJ,VERB',\n",
       "       'NOUN,PROPN,PROPN,PROPN,PROPN,PROPN,PROPN',\n",
       "       'PROPN,PROPN,PROPN,NUM,PUNCT,ADJ,PROPN',\n",
       "       'PROPN,PROPN,PUNCT,PROPN,PROPN,PUNCT,CCONJ,NOUN'], dtype=object)"
      ]
     },
     "execution_count": 26,
     "metadata": {},
     "output_type": "execute_result"
    }
   ],
   "source": [
    "seven_words = examples['Technology Skills'].apply(lambda x:extract_seven_words(x))\n",
    "seven_words = seven_words[seven_words.apply(len) > 0]\n",
    "seven_words= seven_words.apply(lambda x: ','.join(map(str,x)))\n",
    "seven_words.unique()"
   ]
  },
  {
   "cell_type": "code",
   "execution_count": 27,
   "id": "7beadf0a",
   "metadata": {},
   "outputs": [],
   "source": [
    "def extract_eight_words(text):\n",
    "    doc = nlp(text)\n",
    "    patterns = []\n",
    "    if len(text.split()) == 8:\n",
    "        for token in doc:\n",
    "            patterns.append(token.pos_)\n",
    "    return patterns"
   ]
  },
  {
   "cell_type": "code",
   "execution_count": 28,
   "id": "e4150f32",
   "metadata": {},
   "outputs": [
    {
     "data": {
      "text/plain": [
       "array([], dtype=object)"
      ]
     },
     "execution_count": 28,
     "metadata": {},
     "output_type": "execute_result"
    }
   ],
   "source": [
    "eight_words = examples['Technology Skills'].apply(lambda x:extract_eight_words(x))\n",
    "eight_words = eight_words[eight_words.apply(len) > 0]\n",
    "eight_words= eight_words.apply(lambda x: ','.join(map(str,x)))\n",
    "eight_words.unique()"
   ]
  },
  {
   "cell_type": "markdown",
   "id": "45accc06",
   "metadata": {},
   "source": [
    "The maximum number of words contained in each row in the example is seven. We will use these unique patterns to extract the important information."
   ]
  },
  {
   "cell_type": "code",
   "execution_count": 33,
   "id": "7a2c3ec8",
   "metadata": {},
   "outputs": [],
   "source": [
    "def extract_tech(text):\n",
    "    doc = nlp(text)\n",
    "    skills = []\n",
    "    if len(text.split()) == 1:\n",
    "        pattern = [[{'POS': 'PROPN'}],\n",
    "                   [{'POS': 'INTJ'}],\n",
    "                   [{'POS': 'VERB'}],\n",
    "                   [{'POS': 'ADJ'}],\n",
    "                   [{'POS': 'PROPN'}, {'POS': 'PUNCT'}, {'POS': 'NOUN'}],\n",
    "                   [{'POS': 'ADV'}],\n",
    "                   [{'POS': 'PROPN'}, {'POS': 'SYM'}, {'POS': 'NOUN'}],\n",
    "                   [{'POS': 'VERB'}, {'POS': 'PUNCT'}, {'POS': 'VERB'}]]\n",
    "        matcher = Matcher(nlp.vocab)\n",
    "        matcher.add('rule_1', pattern, on_match = None)\n",
    "        matches = matcher(doc)\n",
    "        for match_id, start, end in matches:\n",
    "            span = doc[start:end]\n",
    "            skills.append(span.text)\n",
    "            \n",
    "    elif len(text.split()) == 2:\n",
    "        pattern = [[{'POS': 'PROPN'}, {'POS': 'PROPN'}],\n",
    "                   [{'POS': 'ADJ'}, {'POS': 'ADJ'}],\n",
    "                   [{'POS': 'NOUN'}, {'POS': 'VERB'}],\n",
    "                   [{'POS': 'PROPN'}, {'POS': 'NOUN'}],\n",
    "                   [{'POS': 'NOUN'}, {'POS': 'NUM'}],\n",
    "                   [{'POS': 'PROPN'}, {'POS': 'PROPN'}, {'POS': 'SYM'}, {'POS': 'PROPN'}, {'POS': 'SYM'}, {'POS': 'PROPN'}],\n",
    "                   [{'POS': 'VERB'}, {'POS': 'PROPN'}, {'POS': 'SYM'}, {'POS': 'PROPN'}],\n",
    "                   [{'POS': 'PROPN'}, {'POS': 'PUNCT'}, {'POS': 'PROPN'}, {'POS': 'PUNCT'}],\n",
    "                   [{'POS': 'PROPN'}, {'POS': 'PUNCT'}, {'POS': 'PROPN'}, {'POS': 'PROPN'}],\n",
    "                   [{'POS': 'PROPN'}, {'POS': 'VERB'}],\n",
    "                   [{'POS': 'INTJ'}, {'POS': 'NOUN'}],\n",
    "                   [{'POS': 'NUM'}, {'POS': 'NOUN'}],\n",
    "                   [{'POS': 'NOUN'}, {'POS': 'PROPN'}],\n",
    "                   [{'POS': 'ADJ'}, {'POS': 'PROPN'}],\n",
    "                   [{'POS': 'PROPN'}, {'POS': 'ADJ'}, {'POS': 'ADJ'}, {'POS': 'NOUN'}],\n",
    "                   [{'POS': 'ADP'}, {'POS': 'NOUN'}],\n",
    "                   [{'POS': 'ADJ'}, {'POS': 'VERB'}],\n",
    "                   [{'POS': 'PROPN'}, {'POS': 'PROPN'}, {'POS': 'PUNCT'}, {'POS': 'PROPN'}],\n",
    "                   [{'POS': 'PROPN'}, {'POS': 'ADP'}],\n",
    "                   [{'POS': 'VERB'}, {'POS': 'NOUN'}],\n",
    "                   [{'POS': 'VERB'}, {'POS': 'VERB'}],\n",
    "                   [{'POS': 'PROPN'}, {'POS': 'PUNCT'}],\n",
    "                   [{'POS': 'VERB'}, {'POS': 'PROPN'}],\n",
    "                   [{'POS': 'NOUN'}, {'POS': 'PUNCT'}, {'POS': 'ADP'}, {'POS': 'PUNCT'}, {'POS': 'NOUN'}, {'POS': 'NOUN'}],\n",
    "                   [{'POS': 'PROPN'}, {'POS': 'SYM'}, {'POS': 'PROPN'}, {'POS': 'PROPN'}],\n",
    "                   [{'POS': 'NOUN'}, {'POS': 'SYM'}, {'POS': 'PROPN'}, {'POS': 'PROPN'}],\n",
    "                   [{'POS': 'PROPN'}, {'POS': 'SYM'}, {'POS': 'NOUN'}, {'POS': 'PUNCT'}, {'POS': 'NOUN'}, {'POS': 'NOUN'}],\n",
    "                   [{'POS': 'PUNCT'}, {'POS': 'PROPN'}],\n",
    "                   [{'POS': 'PROPN'}, {'POS': 'PUNCT'}, {'POS': 'PROPN'}, {'POS': 'PROPN'}]]\n",
    "        matcher = Matcher(nlp.vocab)\n",
    "        matcher.add('rule_2', pattern, on_match = None)\n",
    "        matches = matcher(doc)\n",
    "        for match_id, start, end in matches:\n",
    "            span = doc[start:end]\n",
    "            skills.append(span.text)\n",
    "            \n",
    "    elif len(text.split()) == 3:\n",
    "        pattern = [[{'POS': 'PROPN'}, {'POS': 'PROPN'}, {'POS': 'PROPN'}],\n",
    "                   [{'POS': 'PROPN'}, {'POS': 'PROPN'}, {'POS': 'NUM'}],\n",
    "                   [{'POS': 'NOUN'}, {'POS': 'CCONJ'}, {'POS': 'NOUN'}],\n",
    "                   [{'POS': 'PROPN'}, {'POS': 'SYM'}, {'POS': 'PROPN'}],\n",
    "                   [{'POS': 'PROPN'}, {'POS': 'PROPN'}, {'POS': 'PUNCT'}, {'POS': 'PROPN'}, {'POS': 'PROPN'}],\n",
    "                   [{'POS': 'NOUN'}, {'POS': 'NOUN'}, {'POS': 'PUNCT'}, {'POS': 'PROPN'}, {'POS': 'PROPN'}],\n",
    "                   [{'POS': 'NOUN'}, {'POS': 'PUNCT'}, {'POS': 'PROPN'}, {'POS': 'PROPN'}, {'POS': 'PROPN'}, {'POS': 'PUNCT'}],\n",
    "                   [{'POS': 'PROPN'}, {'POS': 'PROPN'}, {'POS': 'PUNCT'}, {'POS': 'PROPN'}, {'POS': 'PUNCT'}],\n",
    "                   [{'POS': 'PROPN'}, {'POS': 'PROPN'}, {'POS': 'PUNCT'}, {'POS': 'NOUN'}, {'POS': 'PUNCT'}],\n",
    "                   [{'POS': 'NOUN'}, {'POS': 'PROPN'}, {'POS': 'PUNCT'}, {'POS': 'PROPN'}, {'POS': 'PUNCT'}],\n",
    "                   [{'POS': 'PROPN'}, {'POS': 'PROPN'}, {'POS': 'NOUN'}],\n",
    "                   [{'POS': 'NOUN'}, {'POS': 'NOUN'}, {'POS': 'PUNCT'}, {'POS': 'PROPN'}, {'POS': 'PUNCT'}],\n",
    "                   [{'POS': 'ADJ'}, {'POS': 'PROPN'}, {'POS': 'PUNCT'}, {'POS': 'PROPN'}, {'POS': 'PUNCT'}],\n",
    "                   [{'POS': 'PROPN'}, {'POS': 'PROPN'}, {'POS': 'SYM'}, {'POS': 'PROPN'}, {'POS': 'PROPN'}],\n",
    "                   [{'POS': 'PROPN'}, {'POS': 'SYM'}, {'POS': 'PROPN'}, {'POS': 'PROPN'}, {'POS': 'PROPN'}],\n",
    "                   [{'POS': 'NOUN'}, {'POS': 'ADP'}, {'POS': 'NOUN'}],\n",
    "                   [{'POS': 'PROPN'}, {'POS': 'ADP'}, {'POS': 'NOUN'}],\n",
    "                   [{'POS': 'NOUN'}, {'POS': 'PUNCT'}, {'POS': 'PROPN'}, {'POS': 'PROPN'}],\n",
    "                   [{'POS': 'NOUN'}, {'POS': 'PROPN'}, {'POS': 'NOUN'}],\n",
    "                   [{'POS': 'NOUN'}, {'POS': 'PROPN'}, {'POS': 'PROPN'}],\n",
    "                   [{'POS': 'PROPN'}, {'POS': 'PROPN'}, {'POS': 'VERB'}],\n",
    "                   [{'POS': 'PROPN'}, {'POS': 'NOUN'}, {'POS': 'NOUN'}],\n",
    "                   [{'POS': 'PROPN'}, {'POS': 'NOUN'}, {'POS': 'PROPN'}],\n",
    "                   [{'POS': 'NOUN'}, {'POS': 'VERB'}, {'POS': 'NOUN'}],\n",
    "                   [{'POS': 'VERB'}, {'POS': 'PROPN'}, {'POS': 'PROPN'}],\n",
    "                   [{'POS': 'ADV'}, {'POS': 'PROPN'}, {'POS': 'PROPN'}],\n",
    "                   [{'POS': 'NOUN'}, {'POS': 'PROPN'}, {'POS': 'VERB'}],\n",
    "                   [{'POS': 'NOUN'}, {'POS': 'PUNCT'}, {'POS': 'NOUN'}],\n",
    "                   [{'POS': 'PROPN'}, {'POS': 'PUNCT'}, {'POS': 'X'}],\n",
    "                   [{'POS': 'PROPN'}, {'POS': 'ADJ'}, {'POS': 'NOUN'}],\n",
    "                   [{'POS': 'PROPN'}, {'POS': 'PROPN'}, {'POS': 'PROPN'}, {'POS': 'PUNCT'}, {'POS': 'PROPN'}],\n",
    "                   [{'POS': 'PROPN'}, {'POS': 'PROPN'}, {'POS': 'PROPN'}, {'POS': 'PROPN'}, {'POS': 'PUNCT'}, {'POS': 'PROPN'}, {'POS': 'PUNCT'}],\n",
    "                   [{'POS': 'PROPN'},{'POS': 'PROPN'}, {'POS': 'PUNCT'}, {'POS': 'PROPN'}, {'POS': 'PUNCT'}, {'POS': 'PROPN'}, {'POS': 'PUNCT'}],\n",
    "                   [{'POS': 'PROPN'},{'POS': 'PROPN'}, {'POS': 'PUNCT'}, {'POS': 'PROPN'}, {'POS': 'SYM'}, {'POS': 'PROPN'}, {'POS': 'SYM'}, {'POS': 'PROPN'}, {'POS': 'SYM'}, {'POS': 'PROPN'}, {'POS': 'PUNCT'}]]\n",
    "        matcher = Matcher(nlp.vocab)\n",
    "        matcher.add('rule_3', pattern, on_match = None)\n",
    "        matches = matcher(doc)\n",
    "        for match_id, start, end in matches:\n",
    "            span = doc[start:end]\n",
    "            skills.append(span.text)\n",
    "            \n",
    "    elif len(text.split()) == 4:\n",
    "        pattern = [[{'POS': 'PROPN'}, {'POS': 'PROPN'}, {'POS': 'PROPN'}, {'POS': 'PROPN'}],\n",
    "                   [{'POS': 'PROPN'}, {'POS': 'VERB'}, {'POS': 'NOUN'}, {'POS': 'NOUN'}],\n",
    "                   [{'POS': 'NOUN'}, {'POS': 'ADP', 'OP': '?'}, {'POS': 'NOUN'}, {'POS': 'NOUN'}],\n",
    "                   [{'POS': 'PROPN'}, {'POS': 'PUNCT'}, {'POS': 'PROPN'}, {'POS': 'PROPN'}],\n",
    "                   [{'POS': 'PROPN'}, {'POS': 'PROPN'}, {'POS': 'VERB'}, {'POS': 'NOUN'}],\n",
    "                   [{'POS': 'ADJ'}, {'POS': 'AUX'}, {'POS': 'PROPN'}, {'POS': 'PROPN'}, {'POS': 'PUNCT'}],\n",
    "                   [{'POS': 'NOUN'}, {'POS': 'PUNCT'}, {'POS': 'PROPN'}, {'POS': 'PROPN'}],\n",
    "                   [{'POS': 'PROPN'}, {'POS': 'PROPN'}, {'POS': 'SYM'}, {'POS': 'PROPN'}], \n",
    "                   [{'POS': 'PROPN'}, {'POS': 'PROPN'}, {'POS': 'PUNCT'}, {'POS': 'PROPN'}, {'POS': 'PROPN'}, {'POS': 'PUNCT'}],\n",
    "                   [{'POS': 'NOUN'}, {'POS': 'PUNCT'}, {'POS': 'NOUN'}, {'POS': 'PROPN'}, {'POS': 'PUNCT'}, {'POS': 'PROPN'}],\n",
    "                   [{'POS': 'PROPN'}, {'POS': 'PROPN'}, {'POS': 'PROPN'}, {'POS': 'PUNCT'}, {'POS': 'PROPN'}, {'POS': 'PUNCT'}],\n",
    "                   [{'POS': 'PROPN'}, {'POS': 'PROPN'}, {'POS': 'PUNCT'}, {'POS': 'PROPN'}],\n",
    "                   [{'POS': 'NUM'}, {'POS': 'PROPN'}, {'POS': 'SYM'}, {'POS': 'PROPN'}, {'POS': 'PROPN'}, {'POS': 'PROPN'}],\n",
    "                   [{'POS': 'PROPN'}, {'POS': 'PROPN'}, {'POS': 'PUNCT'}, {'POS': 'NOUN'}, {'POS': 'NOUN'}, {'POS': 'NOUN'}]]\n",
    "        matcher = Matcher(nlp.vocab)\n",
    "        matcher.add('rule_4', pattern, on_match = None)\n",
    "        matches = matcher(doc)\n",
    "        for match_id, start, end in matches:\n",
    "            span = doc[start:end]\n",
    "            skills.append(span.text)\n",
    "            \n",
    "    elif len(text.split()) == 5:\n",
    "        pattern = [[{'POS': 'PROPN'}, {'POS': 'PROPN'}, {'POS': 'PROPN'}, {'POS': 'PROPN'}, {'POS': 'PROPN'}],\n",
    "                   [{'POS': 'PROPN'}, {'POS': 'PROPN'}, {'POS': 'PROPN'}, {'POS': 'CCONJ'}, {'POS': 'PROPN'}],\n",
    "                   [{'POS': 'PROPN'}, {'POS': 'PROPN'}, {'POS': 'CCONJ'}, {'POS': 'PROPN'}, {'POS': 'PROPN'}],\n",
    "                   [{'POS': 'PROPN'}, {'POS': 'PROPN'}, {'POS': 'PROPN'}, {'POS': 'PROPN'}, {'POS': 'PUNCT'}, {'POS': 'PROPN'}, {'POS': 'PUNCT'}],\n",
    "                   [{'POS': 'PROPN'}, {'POS': 'AUX'}, {'POS': 'PROPN'}, {'POS': 'PROPN'}, {'POS': 'PUNCT'}, {'POS': 'PROPN'}, {'POS': 'PUNCT'}],\n",
    "                   [{'POS': 'NOUN'}, {'POS': 'PROPN'}, {'POS': 'PROPN'}, {'POS': 'PROPN'}, {'POS': 'PROPN'}],\n",
    "                   [{'POS': 'PROPN'}, {'POS': 'PUNCT'}, {'POS': 'PROPN'}, {'POS': 'PROPN'}, {'POS': 'PROPN'}],\n",
    "                   [{'POS': 'PROPN'}, {'POS': 'PROPN'}, {'POS': 'PUNCT'}, {'POS': 'PROPN'}, {'POS': 'PROPN'}],\n",
    "                   [{'POS': 'NOUN'}, {'POS': 'VERB'}, {'POS': 'PROPN'}, {'POS': 'PROPN'}, {'POS': 'PROPN'}],\n",
    "                   [{'POS': 'NOUN'}, {'POS': 'PROPN'}, {'POS': 'PUNCT'}, {'POS': 'PROPN'}, {'POS': 'PROPN'}],\n",
    "                   [{'POS': 'NOUN'}, {'POS': 'PROPN'}, {'POS': 'PROPN'}, {'POS': 'PROPN'}, {'POS': 'PUNCT'}, {'POS': 'PROPN'}, {'POS': 'PUNCT'}],\n",
    "                   [{'POS': 'PROPN'}, {'POS': 'PROPN'}, {'POS': 'PROPN'}, {'POS': 'PROPN'}, {'POS': 'PUNCT'}, {'POS': 'NOUN'}, {'POS': 'PUNCT'}],\n",
    "                   [{'POS': 'PROPN'}, {'POS': 'PROPN'}, {'POS': 'NOUN'}, {'POS': 'NOUN'}, {'POS': 'NOUN'}],\n",
    "                   [{'POS': 'PROPN'}, {'POS': 'PROPN'}, {'POS': 'PUNCT'}, {'POS': 'PROPN'}, {'POS': 'PROPN'}, {'POS': 'PROPN'}, {'POS': 'PUNCT'}],\n",
    "                   [{'POS': 'PROPN'}, {'POS': 'NOUN'}, {'POS': 'PROPN'}, {'POS': 'PROPN'}, {'POS': 'PUNCT'}, {'POS': 'PROPN'}, {'POS': 'PUNCT'}],\n",
    "                   [{'POS': 'NOUN'}, {'POS': 'NOUN'}, {'POS': 'ADP'}, {'POS': 'PROPN'}, {'POS': 'NUM'}],\n",
    "                   [{'POS': 'PROPN'}, {'POS': 'PROPN'}, {'POS': 'PROPN'}, {'POS': 'ADP'}, {'POS': 'PROPN'}],\n",
    "                   [{'POS': 'PROPN'}, {'POS': 'PUNCT'}, {'POS': 'PROPN'}, {'POS': 'CCONJ'}, {'POS': 'NOUN'}],\n",
    "                   [{'POS': 'NOUN'}, {'POS': 'SYM'}, {'POS': 'PROPN'}, {'POS': 'PUNCT'}, {'POS': 'PROPN'}, {'POS': 'CCONJ'}, {'POS': 'NOUN'}],\n",
    "                   [{'POS': 'PROPN'}, {'POS': 'PROPN'}, {'POS': 'ADP'}, {'POS': 'PROPN'}, {'POS': 'PUNCT'}, {'POS': 'PROPN'}, {'POS': 'PUNCT'}],\n",
    "                   [{'POS': 'PROPN'}, {'POS': 'ADJ'}, {'POS': 'PROPN'}, {'POS': 'PROPN'}, {'POS': 'NOUN'}],\n",
    "                   [{'POS': 'PROPN'}, {'POS': 'ADJ'}, {'POS': 'PROPN'}, {'POS': 'PROPN'}, {'POS': 'PUNCT'}, {'POS': 'PROPN'}, {'POS': 'PUNCT'}],\n",
    "                   [{'POS': 'NOUN'}, {'POS': 'PUNCT'}, {'POS': 'PROPN'}, {'POS': 'PROPN'}, {'POS': 'PUNCT'}, {'POS': 'PROPN'}, {'POS': 'PUNCT'}],\n",
    "                   [{'POS': 'PROPN'}, {'POS': 'SYM'}, {'POS': 'PROPN'}, {'POS': 'PROPN'}, {'POS': 'CCONJ'}, {'POS': 'PROPN'}, {'POS': 'PROPN'}]]\n",
    "                                                                                                              \n",
    "        matcher = Matcher(nlp.vocab)\n",
    "        matcher.add('rule_5', pattern, on_match = None)\n",
    "        matches = matcher(doc)\n",
    "        for match_id, start, end in matches:\n",
    "            span = doc[start:end]\n",
    "            skills.append(span.text)\n",
    "            \n",
    "    elif len(text.split()) == 6:\n",
    "        pattern = [[{'POS': 'PROPN'}, {'POS': 'PROPN'}, {'POS': 'PROPN'}, {'POS': 'PROPN'}, {'POS': 'PROPN'}, {'POS': 'PROPN'}],\n",
    "                   [{'POS': 'PROPN'}, {'POS': 'PROPN'}, {'POS': 'PROPN'}, {'POS': 'PROPN'}, {'POS': 'ADP'}, {'POS': 'PROPN'}],\n",
    "                   [{'POS': 'PROPN'}, {'POS': 'PROPN'}, {'POS': 'PROPN'}, {'POS': 'CCONJ'}, {'POS': 'PROPN'}, {'POS': 'PROPN'}],\n",
    "                   [{'POS': 'PROPN'}, {'POS': 'PROPN'}, {'POS': 'NUM'}, {'POS': 'PUNCT'}, {'POS': 'PROPN'}, {'POS': 'NOUN'}],\n",
    "                   [{'POS': 'PROPN'}, {'POS': 'PROPN'}, {'POS': 'CCONJ'}, {'POS': 'PROPN'}, {'POS': 'PUNCT'}, {'POS': 'PROPN'}, {'POS': 'PUNCT'}, {'POS': 'PROPN'}, {'POS': 'PUNCT'}, {'POS': 'PUNCT'}, {'POS': 'PROPN'}, {'POS': 'PUNCT'}],\n",
    "                   [{'POS': 'VERB'}, {'POS': 'PROPN'}, {'POS': 'PUNCT'}, {'POS': 'PROPN'}, {'POS': 'PROPN'}, {'POS': 'NOUN'}],\n",
    "                   [{'POS': 'PROPN'}, {'POS': 'NUM'}, {'POS': 'PROPN'}, {'POS': 'PUNCT'}, {'POS': 'PROPN'}, {'POS': 'NOUN'}],\n",
    "                   [{'POS': 'PROPN'}, {'POS': 'PROPN'}, {'POS': 'ADP'}, {'POS': 'PROPN'}, {'POS': 'PUNCT'}, {'POS': 'PROPN'}, {'POS': 'PUNCT'}],\n",
    "                   [{'POS': 'PROPN'}, {'POS': 'PROPN'}, {'POS': 'NOUN'}, {'POS': 'PROPN'}, {'POS': 'PROPN'}, {'POS': 'PROPN'}],\n",
    "                   [{'POS': 'ADJ'}, {'POS': 'SYM'}, {'POS': 'ADJ'}, {'POS': 'SYM'}, {'POS': 'ADJ'}, {'POS': 'NOUN'}],\n",
    "                   [{'POS': 'NOUN'}, {'POS': 'ADP'}, {'POS': 'PROPN'}, {'POS': 'PROPN'}, {'POS': 'PROPN'}, {'POS': 'PROPN'}],\n",
    "                   [{'POS': 'PROPN'}, {'POS': 'PROPN'}, {'POS': 'PUNCT'}, {'POS': 'PROPN'}, {'POS': 'ADJ'}, {'POS': 'NOUN'}],\n",
    "                   [{'POS': 'PROPN'}, {'POS': 'PROPN'}, {'POS': 'PROPN'}, {'POS': 'CCONJ'}, {'POS': 'PROPN'}, {'POS': 'NOUN'}],\n",
    "                   [{'POS': 'NOUN'}, {'POS': 'NOUN'}, {'POS': 'PUNCT'}, {'POS': 'NOUN'}, {'POS': 'CCONJ'}, {'POS': 'NOUN'}],\n",
    "                   [{'POS': 'PROPN'}, {'POS': 'PUNCT'}, {'POS': 'PROPN'}, {'POS': 'NOUN'}, {'POS': 'PROPN'}, {'POS': 'PROPN'}],\n",
    "                   [{'POS': 'PROPN'}, {'POS': 'PUNCT'}, {'POS': 'PROPN'}, {'POS': 'NOUN'}, {'POS': 'NOUN'}, {'POS': 'NOUN'}],\n",
    "                   [{'POS': 'PROPN'}, {'POS': 'PROPN'}, {'POS': 'PROPN'}, {'POS': 'PROPN'}, {'POS': 'PUNCT'}, {'POS': 'PROPN'}],\n",
    "                   [{'POS': 'PROPN'}, {'POS': 'PUNCT'}, {'POS': 'NOUN'}, {'POS': 'PUNCT'}, {'POS': 'NOUN'}, {'POS': 'SYM'}, {'POS': 'PROPN'}, {'POS': 'PUNCT'}, {'POS': 'PROPN'}, {'POS': 'CCONJ'}, {'POS': 'PROPN'}],\n",
    "                   [{'POS': 'PROPN'}, {'POS': 'PROPN'}, {'POS': 'NOUN'}, {'POS': 'PROPN'}, {'POS': 'PROPN'}, {'POS': 'PUNCT'}, {'POS': 'PROPN'}, {'POS': 'PUNCT'}],\n",
    "                   [{'POS': 'PROPN'}, {'POS': 'PROPN'}, {'POS': 'ADJ'}, {'POS': 'PROPN'}, {'POS': 'PROPN'}, {'POS': 'PROPN'}, {'POS': 'PUNCT'}, {'POS': 'PROPN'}, {'POS': 'PROPN'}, {'POS': 'PROPN'}, {'POS': 'PUNCT'}],\n",
    "                   [{'POS': 'PROPN'}, {'POS': 'PROPN'}, {'POS': 'PROPN'}, {'POS': 'PUNCT'}, {'POS': 'NOUN'}, {'POS': 'PUNCT'}, {'POS': 'PROPN'}, {'POS': 'X'}, {'POS': 'PUNCT'}],\n",
    "                   [{'POS': 'NOUN'}, {'POS': 'PROPN'}, {'POS': 'PROPN'}, {'POS': 'PROPN'}, {'POS': 'ADP'}, {'POS': 'PROPN'}],\n",
    "                   [{'POS': 'PROPN'}, {'POS': 'PROPN'}, {'POS': 'PROPN'}, {'POS': 'PROPN'}, {'POS': 'PROPN'}, {'POS': 'PUNCT'}, {'POS': 'PUNCT'}],\n",
    "                   [{'POS': 'PROPN'}, {'POS': 'PROPN'}, {'POS': 'PROPN'}, {'POS': 'NUM'}, {'POS': 'NOUN'}, {'POS': 'PROPN'}, {'POS': 'PROPN'}],\n",
    "                   [{'POS': 'NOUN'}, {'POS': 'PUNCT'}, {'POS': 'PROPN'}, {'POS': 'PROPN'}, {'POS': 'PROPN'}, {'POS': 'PROPN'}],\n",
    "                   [{'POS': 'PROPN'}, {'POS': 'PROPN'}, {'POS': 'PROPN'}, {'POS': 'PROPN'}, {'POS': 'ADP'}, {'POS': 'NOUN'}],\n",
    "                   [{'POS': 'PROPN'}, {'POS': 'PUNCT'}, {'POS': 'PROPN'}, {'POS': 'PROPN'}, {'POS': 'PROPN'}, {'POS': 'NOUN'}],\n",
    "                   [{'POS': 'PROPN'}, {'POS': 'PROPN'}, {'POS': 'PROPN'}, {'POS': 'PUNCT'}, {'POS': 'PROPN'}, {'POS': 'NOUN'}],\n",
    "                   [{'POS': 'ADJ'}, {'POS': 'NOUN'}, {'POS': 'NOUN'}, {'POS': 'CCONJ'}, {'POS': 'NOUN'}, {'POS': 'PROPN'}],\n",
    "                   [{'POS': 'PROPN'}, {'POS': 'PROPN'}, {'POS': 'CCONJ'}, {'POS': 'PROPN'}, {'POS': 'PROPN'}, {'POS': 'PUNCT'}, {'POS':'PROPN'}]]\n",
    "        matcher = Matcher(nlp.vocab)\n",
    "        matcher.add('rule_6', pattern, on_match = None)\n",
    "        matches = matcher(doc)\n",
    "        for match_id, start, end in matches:\n",
    "            span = doc[start:end]\n",
    "            skills.append(span.text)\n",
    "    \n",
    "    elif len(text.split()) == 7:\n",
    "        pattern = [[{'POS': 'PROPN'}, {'POS': 'PROPN'}, {'POS': 'PROPN'}, {'POS': 'PROPN'}, {'POS': 'ADP'}, {'POS': 'PROPN'}, {'POS': 'PUNCT'}, {'POS': 'PROPN'}],\n",
    "                   [{'POS': 'PROPN'}, {'POS': 'VERB'}, {'POS': 'PUNCT'}, {'POS': 'PROPN'}, {'POS': 'PROPN'}, {'POS': 'CCONJ'}, {'POS': 'VERB'}],\n",
    "                   [{'POS': 'NOUN'}, {'POS': 'PROPN'}, {'POS': 'PROPN'}, {'POS': 'PROPN'}, {'POS': 'PROPN'}, {'POS': 'PROPN'}, {'POS': 'PROPN'}],\n",
    "                   [{'POS': 'PROPN'}, {'POS': 'PROPN'}, {'POS': 'PROPN'}, {'POS': 'NUM'}, {'POS': 'PUNCT'}, {'POS': 'ADJ'}, {'POS': 'PROPN'}],\n",
    "                   [{'POS': 'PROPN'}, {'POS': 'PROPN'}, {'POS': 'PUNCT'}, {'POS': 'PROPN'}, {'POS': 'PROPN'}, {'POS': 'PUNCT'}, {'POS': 'CCONJ'}, {'POS': 'NOUN'}]]\n",
    "        matcher = Matcher(nlp.vocab)\n",
    "        matcher.add('rule_7', pattern, on_match = None)\n",
    "        matches = matcher(doc)\n",
    "        for match_id, start, end in matches:\n",
    "            span = doc[start:end]\n",
    "            skills.append(span.text)\n",
    "    return skills"
   ]
  },
  {
   "cell_type": "code",
   "execution_count": 30,
   "id": "d4d8ecd1",
   "metadata": {},
   "outputs": [],
   "source": [
    "def soft_skills(text):\n",
    "    doc = nlp(text)\n",
    "    soft_skills = []\n",
    "    if len(text.split()) == 1:\n",
    "        pattern = [{'POS': 'NOUN'}]\n",
    "        matcher = Matcher(nlp.vocab)\n",
    "        matcher.add(\"soft\", [pattern])\n",
    "        matches = matcher(doc)\n",
    "        for match_id, start, end in matches:\n",
    "            span = doc[start:end]\n",
    "            soft_skills.append(span.text)\n",
    "    elif len(text.split()) == 2:\n",
    "        pattern = [[{'POS': 'ADJ'}, {'POS': 'NOUN'}],\n",
    "                   [{'POS': 'NOUN'}, {'POS': 'NOUN'}]]\n",
    "        matcher = Matcher(nlp.vocab)\n",
    "        matcher.add(\"soft\", [pattern[0]])\n",
    "        matcher.add(\"soft\", [pattern[1]])\n",
    "        matches = matcher(doc)\n",
    "        for match_id, start, end in matches:\n",
    "            span = doc[start:end]\n",
    "            soft_skills.append(span.text)\n",
    "    elif len(text.split()) == 3:\n",
    "        pattern = [[{'POS':'NOUN'},{'POS': 'PART'}, {'POS': 'VERB'}],\n",
    "                    [{'POS': 'NOUN'}, {'POS': 'NOUN'}, {'POS': 'NOUN'}],\n",
    "                   [{'POS': 'NOUN'}, {'POS': 'ADJ'}, {'POS': 'NOUN'}]]\n",
    "                    \n",
    "        matcher = Matcher(nlp.vocab)\n",
    "        matcher.add(\"soft\", [pattern[0]])\n",
    "        matcher.add(\"soft\", [pattern[1]])\n",
    "        matcher.add(\"soft\", [pattern[2]])\n",
    "        matches = matcher(doc)\n",
    "        for match_id, start, end in matches:\n",
    "            span = doc[start:end]\n",
    "            soft_skills.append(span.text)\n",
    "    return soft_skills"
   ]
  },
  {
   "cell_type": "code",
   "execution_count": 31,
   "id": "b8240684",
   "metadata": {},
   "outputs": [],
   "source": [
    "Soft_Skills = df['RAW DATA'].apply(lambda x:soft_skills(x))"
   ]
  },
  {
   "cell_type": "code",
   "execution_count": 34,
   "id": "f1cac2db",
   "metadata": {},
   "outputs": [],
   "source": [
    "Technical_Skills = df['RAW DATA'].apply(lambda x: extract_tech(x))"
   ]
  },
  {
   "cell_type": "code",
   "execution_count": 35,
   "id": "41cfc7ca",
   "metadata": {},
   "outputs": [
    {
     "data": {
      "text/plain": [
       "12546"
      ]
     },
     "execution_count": 35,
     "metadata": {},
     "output_type": "execute_result"
    }
   ],
   "source": [
    "#eliminate empty values\n",
    "Technical_Skills = Technical_Skills[Technical_Skills.apply(len) > 0]\n",
    "Technical_Skills = Technical_Skills.apply(lambda x: ','.join(map(str,x)))\n",
    "len(Technical_Skills)"
   ]
  },
  {
   "cell_type": "markdown",
   "id": "dfa1342f",
   "metadata": {},
   "source": [
    "There are 12546 technical skills according to the defined patterns derived from the example dataset."
   ]
  },
  {
   "cell_type": "code",
   "execution_count": 36,
   "id": "0f3d33a3",
   "metadata": {},
   "outputs": [
    {
     "data": {
      "text/plain": [
       "5             Java Streams\n",
       "7     Relational Databases\n",
       "8                      SQL\n",
       "11               Hibernate\n",
       "12                 MyBatis\n",
       "Name: RAW DATA, dtype: object"
      ]
     },
     "execution_count": 36,
     "metadata": {},
     "output_type": "execute_result"
    }
   ],
   "source": [
    "Technical_Skills.head()"
   ]
  },
  {
   "cell_type": "code",
   "execution_count": 37,
   "id": "4b9c3869",
   "metadata": {},
   "outputs": [
    {
     "data": {
      "text/plain": [
       "12899"
      ]
     },
     "execution_count": 37,
     "metadata": {},
     "output_type": "execute_result"
    }
   ],
   "source": [
    "#eliminate empty values\n",
    "Soft_Skills = Soft_Skills[Soft_Skills.apply(len) > 0]\n",
    "Soft_Skills = Soft_Skills.apply(lambda x: ','.join(map(str,x)))\n",
    "len(Soft_Skills)"
   ]
  },
  {
   "cell_type": "markdown",
   "id": "9ab23fea",
   "metadata": {},
   "source": [
    "Using the patterns defined, there are 12899 soft skills contained in the dataset. Let's preview some."
   ]
  },
  {
   "cell_type": "code",
   "execution_count": 38,
   "id": "f1c5bf09",
   "metadata": {},
   "outputs": [
    {
     "data": {
      "text/plain": [
       "1          seniority\n",
       "2        familiarity\n",
       "3    functionalities\n",
       "4            Lambdas\n",
       "9                ORM\n",
       "Name: RAW DATA, dtype: object"
      ]
     },
     "execution_count": 38,
     "metadata": {},
     "output_type": "execute_result"
    }
   ],
   "source": [
    "Soft_Skills.head()"
   ]
  },
  {
   "cell_type": "markdown",
   "id": "8a79fc2a",
   "metadata": {},
   "source": [
    "There are some anomalies in the soft skills extracted, as well as some omitted from the technical skills dataset. This is owing to the duality of the singular POS tag NOUN, which can appear as both a technical skill and soft skill. However, the singular NOUN tag predominantly contains soft skills, hence the grouping into the soft skills category."
   ]
  }
 ],
 "metadata": {
  "kernelspec": {
   "display_name": "Python 3",
   "language": "python",
   "name": "python3"
  },
  "language_info": {
   "codemirror_mode": {
    "name": "ipython",
    "version": 3
   },
   "file_extension": ".py",
   "mimetype": "text/x-python",
   "name": "python",
   "nbconvert_exporter": "python",
   "pygments_lexer": "ipython3",
   "version": "3.8.8"
  }
 },
 "nbformat": 4,
 "nbformat_minor": 5
}
